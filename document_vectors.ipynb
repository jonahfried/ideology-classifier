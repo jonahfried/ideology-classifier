{
 "cells": [
  {
   "cell_type": "markdown",
   "metadata": {},
   "source": [
    "# UMAP visualization of high-dimensional transformer output"
   ]
  },
  {
   "cell_type": "code",
   "execution_count": null,
   "metadata": {},
   "outputs": [],
   "source": [
    "with open(output_file) as f:\n",
    "    vec_features = [json.loads(line) for line in f]"
   ]
  },
  {
   "cell_type": "code",
   "execution_count": null,
   "metadata": {},
   "outputs": [],
   "source": [
    "import numpy as np\n",
    "import plotly.graph_objs as go\n",
    "from plotly.offline import download_plotlyjs, init_notebook_mode, plot, iplot\n",
    "import umap\n",
    "# import matplotlib.pyplot as plt\n",
    "# from mpl_toolkits.mplot3d import Axes3D\n",
    "# import seaborn as sns\n",
    "\n",
    "# %matplotlib inline\n",
    "init_notebook_mode(connected=True)"
   ]
  },
  {
   "cell_type": "code",
   "execution_count": null,
   "metadata": {},
   "outputs": [],
   "source": [
    "# sns.set(style='white', context='notebook', rc={'figure.figsize':(16,14)})\n",
    "np.random.seed(42)\n",
    "data = np.array([feature.get(\"values\") for feature in vec_features])\n",
    "labels = [unique_id_to_feature[feature.get(\"linex_index\")].label_id for feature in vec_features]\n",
    "ids = [unique_id_to_text[feature.get(\"linex_index\")] for feature in vec_features]\n",
    "data.shape"
   ]
  },
  {
   "cell_type": "code",
   "execution_count": null,
   "metadata": {},
   "outputs": [],
   "source": [
    "reducer = umap.UMAP(n_neighbors=1000)\n",
    "%time embedding = reducer.fit_transform(data)"
   ]
  },
  {
   "cell_type": "code",
   "execution_count": null,
   "metadata": {},
   "outputs": [],
   "source": [
    "trace = go.Scattergl(\n",
    "    x = embedding[:,0],\n",
    "    y = embedding[:,1],\n",
    "    text=ids,\n",
    "    hoverinfo=\"text\",\n",
    "#     hovermode=\"closest\",\n",
    "    mode = \"markers\",\n",
    "    marker = go.scattergl.Marker(\n",
    "        color=labels,\n",
    "        colorscale=\"Jet\",\n",
    "        size=4,\n",
    "\n",
    "    )\n",
    "    \n",
    ")\n"
   ]
  },
  {
   "cell_type": "code",
   "execution_count": null,
   "metadata": {},
   "outputs": [],
   "source": [
    "fig = go.FigureWidget(\n",
    "    data=[trace],\n",
    "    layout=go.Layout(hovermode=\"closest\")\n",
    ")"
   ]
  },
  {
   "cell_type": "code",
   "execution_count": null,
   "metadata": {},
   "outputs": [],
   "source": [
    "iplot(fig)"
   ]
  },
  {
   "cell_type": "code",
   "execution_count": null,
   "metadata": {},
   "outputs": [],
   "source": [
    "far_left = [598349354, 695303878, 711615030, 815685337]\n",
    "far_right = [1034785985, 1074383661, 920535943, 928303265, 1033908295, 910668253]\n",
    "mid_left = [848566915, 997294192, 803058806]\n",
    "mid_right = [1177828196, 727960065, 1088785840, 695026205]"
   ]
  },
  {
   "cell_type": "code",
   "execution_count": null,
   "metadata": {},
   "outputs": [],
   "source": [
    "unique_id_to_text[789039310]"
   ]
  },
  {
   "cell_type": "code",
   "execution_count": null,
   "metadata": {},
   "outputs": [],
   "source": [
    "import pandas as pd"
   ]
  },
  {
   "cell_type": "code",
   "execution_count": null,
   "metadata": {},
   "outputs": [],
   "source": []
  },
  {
   "cell_type": "code",
   "execution_count": null,
   "metadata": {},
   "outputs": [],
   "source": []
  }
 ],
 "metadata": {
  "kernelspec": {
   "display_name": "Python 3",
   "language": "python",
   "name": "python3"
  },
  "language_info": {
   "codemirror_mode": {
    "name": "ipython",
    "version": 3
   },
   "file_extension": ".py",
   "mimetype": "text/x-python",
   "name": "python",
   "nbconvert_exporter": "python",
   "pygments_lexer": "ipython3",
   "version": "3.6.8"
  }
 },
 "nbformat": 4,
 "nbformat_minor": 2
}
